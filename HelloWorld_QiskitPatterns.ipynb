{
 "cells": [
  {
   "cell_type": "markdown",
   "id": "1bbe1535-8350-4f3a-ad04-ea7d45498664",
   "metadata": {},
   "source": [
    "#### High Performance and Disruptive Computing in Remote Sensing School 2025 2025\n",
    "# Hands-on with Qiskit: Hello World - Qiskit Patterns\n",
    "\n",
    "In this notebook you will walk through a Qiskit Patterns workflow, and use Qiskit's two  [primitives](https://docs.quantum.ibm.com/guides/get-started-with-primitives): the `Sampler` and the `Estimator`.\n",
    "\n",
    "This tutorial partially involves content from [IBM Quantum Documentation: Hello World](https://docs.quantum.ibm.com/guides/hello-world)."
   ]
  },
  {
   "cell_type": "markdown",
   "id": "0fee90ab-baab-4430-ab30-1dcb68292c50",
   "metadata": {},
   "source": [
    "## Create and run a simple quantum program using the Qiskit pattern framework\n",
    "\n",
    "\n",
    "The four steps to writing a quantum program using Qiskit patterns are:\n",
    "\n",
    "1.  Map the problem to a quantum-native format.\n",
    "\n",
    "2.  Optimize the circuits and operators.\n",
    "\n",
    "3.  Execute using a Qiskit primitive function. \n",
    "\n",
    "4.  Analyze the results.\n",
    "\n",
    "First we will make the necessary imports:"
   ]
  },
  {
   "cell_type": "code",
   "execution_count": 24,
   "id": "b48ef87b-62c1-4869-ba77-15bfc009c225",
   "metadata": {},
   "outputs": [],
   "source": [
    "from qiskit import QuantumCircuit\n",
    "import qiskit_ibm_runtime\n",
    "from qiskit.transpiler.preset_passmanagers import generate_preset_pass_manager\n",
    "from qiskit_ibm_runtime import SamplerV2 as Sampler\n",
    "from qiskit_ibm_runtime import EstimatorV2 as Estimator\n",
    "from qiskit.quantum_info import SparsePauliOp\n",
    "from qiskit_ibm_runtime.fake_provider import FakeAlmadenV2"
   ]
  },
  {
   "cell_type": "markdown",
   "id": "dc3d972c-16f2-458d-b457-52e45229a7de",
   "metadata": {},
   "source": [
    "### Step 1. Map the problem to a quantum-native format\n",
    "\n",
    "In a quantum program, *quantum circuits* are the native format in which to represent quantum instructions, and *operators* represent the observables to be measured. When creating a circuit, you'll usually create a new [`QuantumCircuit`](https://docs.quantum.ibm.com/api/qiskit/qiskit.circuit.QuantumCircuit#quantumcircuit-class) object, then add instructions to it in sequence.\n"
   ]
  },
  {
   "cell_type": "markdown",
   "id": "6e2f7867-b2d3-4220-aaea-8802e47d6716",
   "metadata": {},
   "source": [
    "The following code cell creates a circuit that produces a *Bell state,* which is a state wherein two qubits are fully entangled with each other.\n",
    "\n",
    "<div class=\"alert alert-success\">\n",
    "\n",
    "**Step 1** Create a circuit for the Bell state $\\frac{|00\\rangle + |11\\rangle}{\\sqrt{2}}$\n",
    "\n",
    "</div>\n"
   ]
  },
  {
   "cell_type": "code",
   "execution_count": 25,
   "id": "e5dc27dd-dc51-424b-8fcc-b0dac6630843",
   "metadata": {},
   "outputs": [
    {
     "data": {
      "image/png": "[encoded data removed]",
      "text/plain": [
       "<Figure size 287.294x200.667 with 1 Axes>"
      ]
     },
     "execution_count": 25,
     "metadata": {},
     "output_type": "execute_result"
    }
   ],
   "source": [
    "# Create a new circuit with two qubits\n",
    "qc = QuantumCircuit(2)\n",
    " \n",
    "# Add a Hadamard gate to qubit 0\n",
    "qc.h(0)\n",
    " \n",
    "# Perform a controlled-X gate on qubit 1, controlled by qubit 0\n",
    "qc.cx(0, 1)\n",
    " \n",
    "# Return a drawing of the circuit using MatPlotLib (\"mpl\").\n",
    "qc.draw(\"mpl\") \n",
    "\n",
    "#options to save the circuit figure \n",
    "#qc.draw('mpl').savefig(‘name.png’, dpi=300)\n",
    "#qc.draw('mpl').savefig(‘name.svg’)"
   ]
  },
  {
   "cell_type": "markdown",
   "id": "1fcb65f6-3a2c-4be9-98ba-e0bfe471af3f",
   "metadata": {},
   "source": [
    "When creating quantum circuits, you must also consider what type of data you want returned after execution. Qiskit provides two ways to return data: you can obtain the expectation value of an observable, or you can obtain a probability distribution for a set of qubits you choose to measure. Prepare your workload to measure your circuit in one of these two ways with [Qiskit primitives](https://docs.quantum.ibm.com/guides/get-started-with-primitives).\n",
    "\n",
    "\n",
    "- `Estimator` primitive - returns the expectation value of an observable\n",
    "- `Sampler` primitive - returns a probability distribution for a set of qubits you choose to measure"
   ]
  },
  {
   "cell_type": "markdown",
   "id": "5a34c2cb-d72a-4838-bcbd-576f753057f9",
   "metadata": {},
   "source": [
    "<div class=\"alert alert-success\">\n",
    "\n",
    "**Step 1b - Estimator Primitive** Define the observables for which you want to calculate the expectation values\n",
    "\n",
    "</div>"
   ]
  },
  {
   "cell_type": "markdown",
   "id": "85c72543-0ace-4332-a083-d13128cb64cd",
   "metadata": {},
   "source": [
    "This example measures expectation values by using the `qiskit.quantum_info` submodule, which is specified by using operators (mathematical objects used to represent an action or process that changes a quantum state). The following code cell creates six two-qubit Pauli operators: `IZ`, `IX`, `ZI`, `XI`, `ZZ`, and `XX`.\n",
    "\n",
    "As the Bell state is a maximally entangled state, we expect to see see non-zero expectation values for  `ZZ`, and `XX` -- indeed we expect an expectation value of 1 for this particular state for both of these observables. And an expectation value of 0 for `IZ`, `IX`, `ZI`, `XI`. \n",
    "\n",
    "This is a signature of entanglement, as neither qubit has definite individual properties. Measuring either qubit alone gives completely random results (+1 or -1 with equal probability)."
   ]
  },
  {
   "cell_type": "code",
   "execution_count": 26,
   "id": "ea3bfb5a-3166-4746-a4e8-2ea35789b99b",
   "metadata": {},
   "outputs": [],
   "source": [
    "# Set up six different observables.\n",
    " \n",
    "observables_labels = [\"IZ\", \"IX\", \"ZI\", \"XI\", \"ZZ\", \"XX\"]\n",
    "observables = [SparsePauliOp(label) for label in observables_labels] # list of observables"
   ]
  },
  {
   "cell_type": "markdown",
   "id": "e6387ce1-f0b2-4136-8e60-f631c10171e5",
   "metadata": {},
   "source": [
    "<div class=\"alert alert-success\">\n",
    "\n",
    "**Step 1b - Sampler Primitive** Make a note to add measurement gates to the circuit\n",
    "\n",
    "</div>"
   ]
  },
  {
   "cell_type": "markdown",
   "id": "5c3a677a-c676-4f16-8f92-3294a1c79da2",
   "metadata": {},
   "source": [
    "The `Sampler` samples the circuit and returns a probability distribution of measurement outcomes. This means we will need to add measurement gates to the circuit. \n",
    "\n",
    "Since the `Estimator` returns expectation values of observables, measurement gates would interfere with its functionality. Hence we will introduce measurement gates for the `Sampler` once we're done processing the circuit for `Estimator`."
   ]
  },
  {
   "cell_type": "markdown",
   "id": "b7b4505c-d50c-40b8-818d-aab9f4ad62ec",
   "metadata": {},
   "source": [
    "### Step 2. Optimize the circuits for the target hardware\n",
    "\n",
    "When executing circuits on a device, it is important to optimize the set of instructions that the circuit contains and minimize the overall depth (roughly the number of instructions) of the circuit. This ensures that you obtain the best results possible by reducing the effects of error and noise. Additionally, the circuit's instructions must conform to a backend device's [Instruction Set Architecture (ISA)](https://docs.quantum.ibm.com/guides/transpile#instruction-set-architecture) and must consider the device's basis gates and qubit connectivity.\n",
    "\n",
    "The following code instantiates a simulator to submit a job to and transforms the circuit and observables to match that backend's ISA. Note that we will use a real device later."
   ]
  },
  {
   "cell_type": "code",
   "execution_count": 27,
   "id": "f9cbc413-8cb6-4c99-a6ce-d61c9ac3c74a",
   "metadata": {},
   "outputs": [],
   "source": [
    "backend = FakeAlmadenV2()"
   ]
  },
  {
   "cell_type": "code",
   "execution_count": 28,
   "id": "a8bed985-1832-45d8-9a21-ef3cf3b14cae",
   "metadata": {},
   "outputs": [
    {
     "name": "stdout",
     "output_type": "stream",
     "text": [
      "Name: fake_almaden\n",
      "Version: 2\n",
      "No. of qubits: 20\n",
      "Native gate set: ['cx', 'reset', 'measure', 'delay', 'u1', 'u3', 'u2', 'id']\n",
      "\n"
     ]
    }
   ],
   "source": [
    "print(\n",
    "    f\"Name: {backend.name}\\n\"\n",
    "    f\"Version: {backend.version}\\n\"\n",
    "    f\"No. of qubits: {backend.num_qubits}\\n\"\n",
    "    f\"Native gate set: {backend.operation_names}\\n\"\n",
    ")\n",
    "\n",
    "#to view other properties you can use properties()\n",
    "# refer to https://docs.quantum.ibm.com/guides/get-qpu-information\n",
    "#backend.properties().to_dict()\n",
    "#backend.properties().qubit_property(0)\n",
    "\n",
    "#### Exercise: fetch and compare properties of other simulators FakeValenciaV2, FakeTorino, FakeBrisbane. Don't forget to import them."
   ]
  },
  {
   "cell_type": "markdown",
   "id": "1f69f118-58ff-4d87-9c4b-e4f603b2a454",
   "metadata": {},
   "source": [
    "<div class=\"alert alert-success\">\n",
    "\n",
    "**Step 2 - Estimator Primitive** Transpile the circuit into ISA circuit (ISA = Instruction Set Architecture)\n",
    "\n",
    "</div>"
   ]
  },
  {
   "cell_type": "code",
   "execution_count": 29,
   "id": "b7132faa-bfe1-4ed0-8bd8-98b8fd186b75",
   "metadata": {},
   "outputs": [
    {
     "data": {
      "image/png": "[encoded data removed]",
      "text/plain": [
       "<Figure size 339.775x200.667 with 1 Axes>"
      ]
     },
     "execution_count": 29,
     "metadata": {},
     "output_type": "execute_result"
    }
   ],
   "source": [
    "estimator = Estimator(backend) # creates an estimator using the selected backend\n",
    "\n",
    "# Convert to an ISA circuit \n",
    " \n",
    "pm_estimator = generate_preset_pass_manager(backend=backend, optimization_level=1) # generates the pass manager, which is a list of transpiler passes grouped into a logical unit\n",
    "\n",
    "isa_circuit_estimator = pm_estimator.run(qc) # runs the pass manager to create the ISA circuit \n",
    "\n",
    "isa_circuit_estimator.draw(\"mpl\", idle_wires=False) # draws the circuit, note: idle_wires = False to hide all the qubits not being used\n",
    "\n",
    "#### Exercise: Compare this with the ISA circuits for other backends and note the differences"
   ]
  },
  {
   "cell_type": "markdown",
   "id": "aec55aee-9240-45a0-800e-bfb82efce2dc",
   "metadata": {},
   "source": [
    "<div class=\"alert alert-success\">\n",
    "\n",
    "**Step 2 - Sampler Primitive** Transpile the circuit into ISA circuit (ISA = Instruction Set Architecture)\n",
    "\n",
    "</div>"
   ]
  },
  {
   "cell_type": "markdown",
   "id": "73400af4-e971-41cd-b461-3a5d5e174d3d",
   "metadata": {},
   "source": [
    "But first add measurement gates to the circuit!"
   ]
  },
  {
   "cell_type": "code",
   "execution_count": 30,
   "id": "bc77001c-10b6-416a-b889-7c5691d0a045",
   "metadata": {},
   "outputs": [
    {
     "data": {
      "image/png": "[encoded data removed]",
      "text/plain": [
       "<Figure size 580.387x284.278 with 1 Axes>"
      ]
     },
     "execution_count": 30,
     "metadata": {},
     "output_type": "execute_result"
    }
   ],
   "source": [
    "qc.measure_all() # adds a barrier, applies measurement gates on all qubits, creates a classical register called `meas`\n",
    "qc.draw('mpl')"
   ]
  },
  {
   "cell_type": "code",
   "execution_count": 31,
   "id": "c1dd668e-9384-49b0-bbb2-e70966eea6c3",
   "metadata": {},
   "outputs": [
    {
     "data": {
      "image/png": "[encoded data removed]",
      "text/plain": [
       "<Figure size 590.608x284.278 with 1 Axes>"
      ]
     },
     "execution_count": 31,
     "metadata": {},
     "output_type": "execute_result"
    }
   ],
   "source": [
    "sampler = Sampler(backend) # creates a sampler using the selected backend\n",
    "\n",
    "# Convert to an ISA circuit\n",
    "pm_sampler = generate_preset_pass_manager(backend=backend, optimization_level=1) \n",
    "\n",
    "isa_circuit_sampler = pm_sampler.run(qc) \n",
    "\n",
    "\n",
    "isa_circuit_sampler.draw(\"mpl\", idle_wires=False) "
   ]
  },
  {
   "cell_type": "markdown",
   "id": "395889a8-fdc6-405a-a96e-a488a825892a",
   "metadata": {},
   "source": [
    "### Step 3. Execute using the Qiskit primitives\n",
    "\n",
    "Quantum computers can produce random results, so you usually collect a sample of the outputs by running the circuit many times. You can estimate the value of the observable by using the `Estimator` class. `Sampler` can be used to get data from a quantum computer.  These objects possess a `run()` method that executes the selection of circuits, observables, and parameters (if applicable), using a [primitive unified bloc (PUB).](https://docs.quantum.ibm.com/guides/primitive-input-output#pubs)\n",
    "\n"
   ]
  },
  {
   "cell_type": "markdown",
   "id": "e1c16455-d8ee-48b1-a7ec-2c628fc0ccaf",
   "metadata": {},
   "source": [
    "<div class=\"alert alert-success\">\n",
    "\n",
    "**Step 3 - Estimator Primitive** Submit a job using the Estimator primitive.\n",
    "\n",
    "</div>"
   ]
  },
  {
   "cell_type": "code",
   "execution_count": 32,
   "id": "bcbac8f5-0112-4ac1-a0b5-a9c55c892355",
   "metadata": {},
   "outputs": [],
   "source": [
    "# Create layout-mapped observables for the ISA circuit\n",
    "\n",
    "mapped_observables = [\n",
    "    observable.apply_layout(isa_circuit_estimator.layout) for observable in observables\n",
    "]\n",
    "\n",
    "job_estimator = estimator.run([(isa_circuit_estimator, mapped_observables)])\n",
    " \n",
    "# Result of the entire primitive execution. (You submitted one PUB, so this contains one inner result, and some metadata of its own.):\n",
    "\n",
    "job_estimator_result = job_estimator.result()\n",
    " \n",
    "# Result from your single PUB, which had five observables, so contains information on all five:\n",
    " \n",
    "pub_result_estimator = job_estimator.result()[0]\n"
   ]
  },
  {
   "cell_type": "markdown",
   "id": "790af099-a17b-4606-b12a-e2919e852319",
   "metadata": {},
   "source": [
    "<div class=\"alert alert-success\">\n",
    "\n",
    "**Step 3 - Sampler Primitive** Submit a job using the Sampler primitive.\n",
    "\n",
    "</div>"
   ]
  },
  {
   "cell_type": "code",
   "execution_count": 33,
   "id": "d6663547-d7b7-4c02-b645-d88963ca2246",
   "metadata": {},
   "outputs": [],
   "source": [
    "job_sampler = sampler.run([isa_circuit_sampler], shots=1024) # runs the sampler primitive on ISA circuit for specified number of shots\n",
    "\n",
    "result_sampler = job_sampler.result() # saves the result of the job "
   ]
  },
  {
   "cell_type": "markdown",
   "id": "1a2fc539-c697-4f07-ba3e-5be98a23ef30",
   "metadata": {},
   "source": [
    "### Step 4. Post-process the results\n",
    "\n",
    "This step involves postprocessing your results. You might feed these results into another workflow for further analysis or prepare a plot of the key values and data. In general, this step is specific to your problem.  \n",
    "\n",
    "- For the `Estimator`, we plot the values of the expecation values of the observables using `pyplot`\n",
    "- For the `Sampler`, we plot the probability distribution obtained by sampling the quantum circuit as many times as the shots you specified using `plot_histogram`."
   ]
  },
  {
   "cell_type": "markdown",
   "id": "b6381972-2525-4330-8a43-5c724ac76807",
   "metadata": {},
   "source": [
    "<div class=\"alert alert-success\">\n",
    "\n",
    "**Step 4 - Estimator Primitive** Visualize the results using `pyplot`\n",
    "\n",
    "</div>"
   ]
  },
  {
   "cell_type": "code",
   "execution_count": 40,
   "id": "aa1730dc-0b4b-4552-af76-2f9ef4e8aef8",
   "metadata": {},
   "outputs": [
    {
     "data": {
      "image/png": "[encoded data removed]",
      "text/plain": [
       "<Figure size 640x480 with 1 Axes>"
      ]
     },
     "metadata": {},
     "output_type": "display_data"
    }
   ],
   "source": [
    "# Plot the result\n",
    " \n",
    "from matplotlib import pyplot as plt\n",
    " \n",
    "values = pub_result_estimator.data.evs\n",
    "\n",
    "# plotting graph\n",
    "plt.plot(observables_labels, values, \"-o\")\n",
    "plt.xlabel(\"Observables\")\n",
    "plt.ylabel(\"Values\")\n",
    "plt.show()"
   ]
  },
  {
   "cell_type": "markdown",
   "id": "c4a35ff8-ba80-442f-b846-50b17965138e",
   "metadata": {},
   "source": [
    "<div class=\"alert alert-success\">\n",
    "\n",
    "**Step 4 - Sampler Primitive** Visualize the results using `plot_histogram`\n",
    "\n",
    "</div>"
   ]
  },
  {
   "cell_type": "code",
   "execution_count": 35,
   "id": "81c193ee-6398-49d6-b12c-041a669a056a",
   "metadata": {},
   "outputs": [
    {
     "data": {
      "image/png": "[encoded data removed]",
      "text/plain": [
       "<Figure size 640x480 with 1 Axes>"
      ]
     },
     "execution_count": 35,
     "metadata": {},
     "output_type": "execute_result"
    }
   ],
   "source": [
    "from qiskit.visualization import plot_histogram\n",
    "\n",
    "counts = result_sampler[0].data.meas.get_counts() # meas is the default name of the classical register when using measure_all(). If you specify a classical register, then use the name you assign\n",
    "\n",
    "# Plot the result\n",
    "plot_histogram(counts)"
   ]
  },
  {
   "cell_type": "markdown",
   "id": "1d11630a-392a-44ab-8354-2e6603f75c3b",
   "metadata": {},
   "source": [
    "# Running on a Real Device"
   ]
  },
  {
   "cell_type": "markdown",
   "id": "71bfd981-e7b3-49f7-aa7f-8df65b547b8e",
   "metadata": {},
   "source": [
    "You can access real devices through your account on the [IBM Quantum Platform](https://quantum.ibm.com/). \n",
    "\n",
    "(Please note that the IBM Quantum Platform is moving to quantum.cloud.ibm.com and this version will be sunset on July 1. To get started on the new platform, read the [migration guide](https://docs.quantum.ibm.com/migration-guides/classic-iqp-to-cloud-iqp).)\n",
    "\n",
    "We used a simulator for this example. If you'd like to run this code on a real device, you can use the following code. This uses the `Sampler` primitive.\n",
    "\n",
    "In order to run the `Estimator` primitive on a real device, refer to the code given in [IBM Quantum Documentation: Hello World](https://docs.quantum.ibm.com/guides/hello-world). Remember to create a new circuit without measurement gates."
   ]
  },
  {
   "cell_type": "code",
   "execution_count": 13,
   "id": "1bcc3654-a102-4101-9ec4-8854f3ae8230",
   "metadata": {},
   "outputs": [],
   "source": [
    "from qiskit_ibm_runtime import QiskitRuntimeService"
   ]
  },
  {
   "cell_type": "code",
   "execution_count": null,
   "id": "6b83c1e4-6339-45a3-a956-6f1ab486c5e7",
   "metadata": {},
   "outputs": [],
   "source": [
    "# If you have not previously saved your credentials, follow instructions at https://docs.quantum.ibm.com/guides/setup-channel#iqp\n",
    "# to authenticate with your API token.\n",
    "\n",
    "your_token = \"insert your token here\"\n",
    "\n",
    "QiskitRuntimeService.save_account(\n",
    "  token=your_token,\n",
    "  channel=\"ibm_quantum\", \n",
    "  overwrite=True\n",
    ")"
   ]
  },
  {
   "cell_type": "code",
   "execution_count": null,
   "id": "8c66c402-0ccc-48ee-80ec-f69d51f1b211",
   "metadata": {},
   "outputs": [],
   "source": [
    "# If you are using quantum.cloud.ibm.com instead of quantum.ibm.com then use the following code instead\n",
    "\n",
    "#your_token = \"insert your token here\"\n",
    "#your_instance = \"insert your instance here\"\n",
    "\n",
    "'''\n",
    "QiskitRuntimeService.save_account(\n",
    "    channel=\"ibm_cloud\",\n",
    "    token=your_token,\n",
    "    instance=your_instance,\n",
    "    set_as_default=True,\n",
    "    overwrite=True,\n",
    ")\n",
    "'''\n"
   ]
  },
  {
   "cell_type": "code",
   "execution_count": null,
   "id": "687e7211-b668-46ce-afb6-66f9029c061f",
   "metadata": {},
   "outputs": [],
   "source": [
    "# view the list of backends you have access to\n",
    "\n",
    "service = QiskitRuntimeService()\n",
    "\n",
    "service.backends()"
   ]
  },
  {
   "cell_type": "code",
   "execution_count": null,
   "id": "1b7a0893-01d0-4359-820b-28467da705e2",
   "metadata": {},
   "outputs": [],
   "source": [
    "# Get backend\n",
    "backend_real = service.least_busy(simulator=False, operational=True)\n",
    "\n",
    "#backend_real = service.backend(name=\"insert_backend_name\") # use this if you want to choose a specific backend \n",
    "\n",
    "sampler = Sampler(backend_real)\n",
    "\n",
    "pm = generate_preset_pass_manager(backend=backend_real, optimization_level=3)\n",
    "isa_circuit = pm.run(qc) \n",
    "\n",
    "job = sampler.run([isa_circuit], shots=1024)\n",
    "result = job.result()"
   ]
  },
  {
   "cell_type": "code",
   "execution_count": null,
   "id": "b5408132-26ac-4af7-aab8-6fd97bc72853",
   "metadata": {},
   "outputs": [],
   "source": [
    "print(job.job_id)"
   ]
  },
  {
   "cell_type": "code",
   "execution_count": 16,
   "id": "313b9374-6b72-4328-9145-7699c5f0b404",
   "metadata": {},
   "outputs": [
    {
     "name": "stdout",
     "output_type": "stream",
     "text": [
      "Name: alt_marrakesh\n",
      "Version: 2\n",
      "No. of qubits: 156\n",
      "Native gate set: ['reset', 'delay', 'cz', 'sx', 'x', 'if_else', 'measure', 'for_loop', 'switch_case', 'xslow', 'id', 'rz']\n",
      "\n"
     ]
    }
   ],
   "source": [
    "print(\n",
    "    f\"Name: {backend_real.name}\\n\"\n",
    "    f\"Version: {backend_real.version}\\n\"\n",
    "    f\"No. of qubits: {backend_real.num_qubits}\\n\"\n",
    "    f\"Native gate set: {backend_real.operation_names}\\n\"\n",
    ")"
   ]
  },
  {
   "cell_type": "code",
   "execution_count": 17,
   "id": "bba4c0d2-71f3-43a1-8258-da1e42a95a0b",
   "metadata": {},
   "outputs": [
    {
     "data": {
      "image/png": "[encoded data removed]",
      "text/plain": [
       "<Figure size 640x480 with 1 Axes>"
      ]
     },
     "execution_count": 17,
     "metadata": {},
     "output_type": "execute_result"
    }
   ],
   "source": [
    "counts = result[0].data.meas.get_counts() # meas is the default name of the classical register when using measure_all(). If you specify a classical register, then use the name you assign\n",
    "\n",
    "plot_histogram(counts)"
   ]
  },
  {
   "cell_type": "code",
   "execution_count": null,
   "id": "bcf7dca9-3175-40c4-859f-bdaafb324a2c",
   "metadata": {},
   "outputs": [],
   "source": []
  },
  {
   "cell_type": "code",
   "execution_count": null,
   "id": "05ae728c-e93c-4b44-812f-50577c261812",
   "metadata": {},
   "outputs": [],
   "source": []
  },
  {
   "cell_type": "markdown",
   "id": "35046e64-2f2b-4c50-ab68-e41e2615f5da",
   "metadata": {},
   "source": []
  },
  {
   "cell_type": "code",
   "execution_count": null,
   "id": "924c0285-ec42-4630-a763-7d2d8dc0ae4d",
   "metadata": {},
   "outputs": [],
   "source": []
  }
 ],
 "metadata": {
  "kernelspec": {
   "display_name": "Python 3 (ipykernel)",
   "language": "python",
   "name": "python3"
  },
  "language_info": {
   "codemirror_mode": {
    "name": "ipython",
    "version": 3
   },
   "file_extension": ".py",
   "mimetype": "text/x-python",
   "name": "python",
   "nbconvert_exporter": "python",
   "pygments_lexer": "ipython3",
   "version": "3.13.2"
  }
 },
 "nbformat": 4,
 "nbformat_minor": 5
}
